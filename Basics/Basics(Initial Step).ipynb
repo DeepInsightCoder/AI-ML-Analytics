{
 "cells": [
  {
   "cell_type": "markdown",
   "id": "cf34a4f6-2cb6-44ec-8b11-33b8231f67e3",
   "metadata": {},
   "source": [
    "# Step 1: *Load the Data*"
   ]
  },
  {
   "cell_type": "code",
   "execution_count": null,
   "id": "2e97d93f-e3e5-43db-a6c1-2b018f0be875",
   "metadata": {},
   "outputs": [],
   "source": [
    "import pandas as pd\n",
    "\n",
    "# Load the data\n",
    "df = pd.read_csv('data.csv')\n",
    "\n",
    "# Display the first few rows of the dataframe\n",
    "print(df.head())"
   ]
  },
  {
   "cell_type": "markdown",
   "id": "c7b18c40-ed31-498b-87a2-1ec2057f4a89",
   "metadata": {},
   "source": [
    "# Step 2: *Data Cleaning*"
   ]
  },
  {
   "cell_type": "code",
   "execution_count": null,
   "id": "f486593a-c254-43f0-a5c3-262bfbab95f7",
   "metadata": {},
   "outputs": [],
   "source": [
    "# Check for missing values\n",
    "print(df.isnull().sum())\n",
    "\n",
    "# Drop rows with missing values (or you can fill them with a value)\n",
    "df = df.dropna()\n",
    "\n",
    "# Convert data types if necessary\n",
    "df['column_name'] = df['column_name'].astype('int')\n",
    "\n",
    "# Remove duplicates\n",
    "df = df.drop_duplicates()\n",
    "\n",
    "# Display the cleaned dataframe\n",
    "print(df.info())"
   ]
  },
  {
   "cell_type": "markdown",
   "id": "3bce8f82-5e06-4edd-b0df-b4de0fe2d259",
   "metadata": {},
   "source": [
    "# Step 3: *Exploratory Data Analysis (EDA)*"
   ]
  },
  {
   "cell_type": "code",
   "execution_count": null,
   "id": "f56a4f41-f6c4-4bfd-8caa-958c984b4ddb",
   "metadata": {},
   "outputs": [],
   "source": [
    "import matplotlib.pyplot as plt\n",
    "import seaborn as sns\n",
    "\n",
    "# Descriptive statistics\n",
    "print(df.describe())\n",
    "\n",
    "# Histogram of a specific column\n",
    "plt.figure(figsize=(10, 6))\n",
    "sns.histplot(df['column_name'], kde=True)\n",
    "plt.title('Distribution of Column Name')\n",
    "plt.show()\n",
    "\n",
    "# Scatter plot to visualize relationship between two variables\n",
    "plt.figure(figsize=(10, 6))\n",
    "sns.scatterplot(x='column1', y='column2', data=df)\n",
    "plt.title('Column1 vs Column2')\n",
    "plt.show()\n",
    "\n",
    "# Correlation matrix\n",
    "plt.figure(figsize=(10, 6))\n",
    "sns.heatmap(df.corr(), annot=True, cmap='coolwarm')\n",
    "plt.title('Correlation Matrix')\n",
    "plt.show()"
   ]
  },
  {
   "cell_type": "markdown",
   "id": "866ea70a-700b-47b0-a218-41129fd6d092",
   "metadata": {},
   "source": [
    "# Step 4: *Basic Analysis*"
   ]
  },
  {
   "cell_type": "code",
   "execution_count": null,
   "id": "b58c8689-abd0-460b-8364-856adbd8419f",
   "metadata": {},
   "outputs": [],
   "source": [
    "# Group by and aggregate\n",
    "grouped_df = df.groupby('category_column')['value_column'].mean().reset_index()\n",
    "print(grouped_df)\n",
    "\n",
    "# Apply a statistical method (e.g., linear regression)\n",
    "from sklearn.linear_model import LinearRegression\n",
    "\n",
    "# Prepare data for regression\n",
    "X = df[['feature1', 'feature2']]  # independent variables\n",
    "y = df['target']  # dependent variable\n",
    "\n",
    "# Initialize and fit the model\n",
    "model = LinearRegression()\n",
    "model.fit(X, y)\n",
    "\n",
    "# Print model coefficients\n",
    "print(f'Intercept: {model.intercept_}')\n",
    "print(f'Coefficients: {model.coef_}')"
   ]
  },
  {
   "cell_type": "markdown",
   "id": "ee61b4ec-6359-4b46-9d64-af388d2d0f04",
   "metadata": {},
   "source": [
    "# Step 5: *Save the Results*"
   ]
  },
  {
   "cell_type": "code",
   "execution_count": null,
   "id": "f42961a8-ca0a-40f5-b16c-3578054fcaa8",
   "metadata": {},
   "outputs": [],
   "source": [
    "# Save the grouped data to a CSV file\n",
    "grouped_df.to_csv('grouped_data.csv', index=False)\n",
    "\n",
    "# Save the cleaned data\n",
    "df.to_csv('cleaned_data.csv', index=False)"
   ]
  }
 ],
 "metadata": {
  "kernelspec": {
   "display_name": "Python 3 (ipykernel)",
   "language": "python",
   "name": "python3"
  },
  "language_info": {
   "codemirror_mode": {
    "name": "ipython",
    "version": 3
   },
   "file_extension": ".py",
   "mimetype": "text/x-python",
   "name": "python",
   "nbconvert_exporter": "python",
   "pygments_lexer": "ipython3",
   "version": "3.11.7"
  }
 },
 "nbformat": 4,
 "nbformat_minor": 5
}
